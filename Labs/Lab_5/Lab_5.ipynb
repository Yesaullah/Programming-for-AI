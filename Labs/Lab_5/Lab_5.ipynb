{
  "cells": [
    {
      "cell_type": "markdown",
      "metadata": {
        "id": "FfAInSaXL6I5"
      },
      "source": [
        "# **Task 1:**"
      ]
    },
    {
      "cell_type": "code",
      "execution_count": null,
      "metadata": {
        "id": "W__7nLTlL6JF",
        "outputId": "d95731d4-c038-4101-f460-64a818d79884"
      },
      "outputs": [
        {
          "name": "stdout",
          "output_type": "stream",
          "text": [
            "Total Bus Fare: 5500.0\n"
          ]
        }
      ],
      "source": [
        "class Vehicle:\n",
        "    def __init__(self, capacity):\n",
        "        self.capacity = capacity\n",
        "\n",
        "    def set_fare(self):\n",
        "        total = self.capacity*100\n",
        "        return total\n",
        "\n",
        "class Bus(Vehicle):\n",
        "     def __init__(self, capacity):\n",
        "         super().__init__(capacity)\n",
        "\n",
        "     def set_fare(self):\n",
        "        total = super().set_fare() + (super().set_fare() * 10/100)\n",
        "        print(f\"Total Bus Fare: {total}\")\n",
        "\n",
        "bus1 = Bus(50)\n",
        "bus1.set_fare()"
      ]
    },
    {
      "cell_type": "markdown",
      "metadata": {
        "id": "1-FgcSEtL6JO"
      },
      "source": [
        "# **Task 2:**"
      ]
    },
    {
      "cell_type": "code",
      "execution_count": null,
      "metadata": {
        "id": "GJ-fEpczL6JP",
        "outputId": "bb957f34-782c-41a4-bb30-dc43a8d11a4d"
      },
      "outputs": [
        {
          "name": "stdout",
          "output_type": "stream",
          "text": [
            "AREA OF TRIANGLE\n",
            "The area of the triangle is:  6.0\n",
            "AREA OF RECTANGLE\n",
            "The area of the triangle is:  20.0\n",
            "AREA OF SQUARE\n",
            "The area of the triangle is:  9.0\n"
          ]
        }
      ],
      "source": [
        "from abc import ABC, abstractmethod\n",
        "class Shape(ABC):\n",
        "    @abstractmethod\n",
        "    def area(self):\n",
        "        pass\n",
        "\n",
        "class Triangle(Shape):\n",
        "    def area(self):\n",
        "        print(\"AREA OF TRIANGLE\")\n",
        "        base = float(input(\"Enter the base\"))\n",
        "        height = float(input(\"Enter the height\"))\n",
        "        return base*height\n",
        "\n",
        "class Rectangle(Shape):\n",
        "    def area(self):\n",
        "        print('AREA OF RECTANGLE')\n",
        "        length = float(input(\"Enter the length\"))\n",
        "        breadth = float(input(\"Enter the breadth\"))\n",
        "        return length*breadth\n",
        "\n",
        "class Square(Shape):\n",
        "    def area(self):\n",
        "        print('AREA OF SQUARE')\n",
        "        side = float(input(\"Enter a side\"))\n",
        "        return side*side\n",
        "\n",
        "t = Triangle()\n",
        "print(\"The area of the triangle is: \", t.area())\n",
        "r = Rectangle()\n",
        "print(\"The area of the triangle is: \", r.area())\n",
        "s = Square()\n",
        "print(\"The area of the triangle is: \", s.area())\n"
      ]
    },
    {
      "cell_type": "markdown",
      "metadata": {
        "id": "bXH_iBc0L6JS"
      },
      "source": [
        "# **Task 3:**"
      ]
    },
    {
      "cell_type": "code",
      "execution_count": null,
      "metadata": {
        "id": "wnS9SrTnL6JV",
        "outputId": "5091e26c-2e02-4855-dd21-519941e2a54d"
      },
      "outputs": [
        {
          "name": "stdout",
          "output_type": "stream",
          "text": [
            "The account number is:  AX23456\n",
            "The account balance is:  30000\n",
            "The security code is:  446\n"
          ]
        }
      ],
      "source": [
        "class Account:\n",
        "    def __init__(self, accountNo, accountBal, securityCode):\n",
        "        self.__accountNo = accountNo\n",
        "        self.__accountBal = accountBal\n",
        "        self.__securityCode = securityCode\n",
        "\n",
        "    def print(self):\n",
        "        print(\"The account number is: \",self.__accountNo)\n",
        "        print(\"The account balance is: \",self.__accountBal)\n",
        "        print(\"The security code is: \",self.__securityCode)\n",
        "\n",
        "a = Account(\"AX23456\", 30000, \"446\")\n",
        "a.print()\n"
      ]
    },
    {
      "cell_type": "markdown",
      "metadata": {
        "id": "H0NZvIdcL6JX"
      },
      "source": [
        "# **Task 4:**"
      ]
    },
    {
      "cell_type": "code",
      "execution_count": null,
      "metadata": {
        "id": "V6tdoZODL6JZ",
        "outputId": "0e47a2ac-e3d4-43d5-c9eb-b2350109f837"
      },
      "outputs": [
        {
          "name": "stdout",
          "output_type": "stream",
          "text": [
            "Inside student class print\n",
            "The name of the student is:  Zunaira Amjad\n",
            "The id of the student is:  23k-0013\n",
            "Inside marks class print\n",
            "The name of the student is:  Zunaira Amjad\n",
            "The id of the student is:  23k-0013\n",
            "The marks of Algo are:  23\n",
            "The marks of Data Science are:  33\n",
            "The marks of Calculus are  40\n",
            "Inside result class print\n",
            "The total marks are:  96\n",
            "The average marks are:  32.0\n"
          ]
        }
      ],
      "source": [
        "class Student:\n",
        "    def __init__(self, name, iD):\n",
        "        self.name = name\n",
        "        self.iD = iD\n",
        "\n",
        "    def print(self):\n",
        "        print(\"Inside student class print\")\n",
        "        print(\"The name of the student is: \",self.name)\n",
        "        print(\"The id of the student is: \", self.iD)\n",
        "\n",
        "class Marks(Student):\n",
        "    def __init__(self, Algo, DS, cal, name, iD):\n",
        "        self.Algo = Algo\n",
        "        self.DS = DS\n",
        "        self.cal = cal\n",
        "\n",
        "        super().__init__(name,iD)\n",
        "\n",
        "    def print(self):\n",
        "        print(\"Inside marks class print\")\n",
        "        print(\"The name of the student is: \",self.name)\n",
        "        print(\"The id of the student is: \", self.iD)\n",
        "        print(\"The marks of Algo are: \",self.Algo)\n",
        "        print(\"The marks of Data Science are: \", self.DS)\n",
        "        print(\"The marks of Calculus are \",self.cal)\n",
        "\n",
        "class Result(Marks):\n",
        "    def __init__(self, Algo, DS, cal, name, iD):\n",
        "        super().__init__(Algo, DS, cal, name, iD)\n",
        "\n",
        "    def totalMarks(self):\n",
        "        return self.Algo+self.DS+self.cal\n",
        "    def avgMarks(self):\n",
        "        return self.totalMarks()/3\n",
        "\n",
        "    def print(self):\n",
        "        print(\"Inside result class print\")\n",
        "        print(\"The total marks are: \", self.totalMarks())\n",
        "        print(\"The average marks are: \",self.avgMarks())\n",
        "\n",
        "s = Student(\"Zunaira Amjad\", \"23k-0013\")\n",
        "s.print()\n",
        "m = Marks(23, 33, 40, \"Zunaira Amjad\", \"23k-0013\")\n",
        "m.print()\n",
        "r = Result(23, 33, 40, \"Zunaira Amjad\", \"23k-0013\")\n",
        "r.print()"
      ]
    },
    {
      "cell_type": "markdown",
      "metadata": {
        "id": "EgGXSkVFL6Ji"
      },
      "source": [
        "# **Task 5:**"
      ]
    },
    {
      "cell_type": "code",
      "execution_count": null,
      "metadata": {
        "id": "Lk-6EfydL6Jk",
        "outputId": "eb63a603-0df8-4467-fdf5-0e67b408a0dc"
      },
      "outputs": [
        {
          "name": "stdout",
          "output_type": "stream",
          "text": [
            "Toyota Corolla - $50/day - Not Available\n",
            "Reservation for Zunaira Amjad:\n",
            "Vehicle: Toyota Corolla - $50/day - Not Available\n",
            "From: 2024-09-18 To: 2024-09-21\n",
            "Total Cost: $150\n"
          ]
        }
      ],
      "source": [
        "from datetime import datetime, timedelta\n",
        "\n",
        "class Vehicle:\n",
        "    def __init__(self, make, model, rental_price):\n",
        "        self.make = make\n",
        "        self.model = model\n",
        "        self._rental_price = rental_price  # Encapsulated attribute\n",
        "        self._is_available = True  # Encapsulated attribute\n",
        "\n",
        "    def check_availability(self):\n",
        "        return self._is_available\n",
        "\n",
        "    def calculate_total_cost(self, days):\n",
        "        return self._rental_price * days\n",
        "\n",
        "    def display_details(self):\n",
        "        availability = \"Available\" if self._is_available else \"Not Available\"\n",
        "        return f\"{self.make} {self.model} - ${self._rental_price}/day - {availability}\"\n",
        "\n",
        "    def rent_vehicle(self):\n",
        "        if self._is_available:\n",
        "            self._is_available = False\n",
        "            return True\n",
        "        return False\n",
        "\n",
        "    def return_vehicle(self):\n",
        "        self._is_available = True\n",
        "\n",
        "\n",
        "class Car(Vehicle):\n",
        "    pass  # Additional Car-specific attributes/methods\n",
        "\n",
        "\n",
        "class SUV(Vehicle):\n",
        "    pass  # Additional SUV-specific attributes/methods\n",
        "\n",
        "\n",
        "class Truck(Vehicle):\n",
        "    pass  # Additional Truck-specific attributes/methods\n",
        "\n",
        "\n",
        "class RentalReservation:\n",
        "    def __init__(self, customer, vehicle, start_date, end_date):\n",
        "        self.customer = customer\n",
        "        self.vehicle = vehicle\n",
        "        self.start_date = start_date\n",
        "        self.end_date = end_date\n",
        "\n",
        "    def display_reservation_details(self):\n",
        "        return (f\"Reservation for {self.customer.name}:\\n\"\n",
        "                f\"Vehicle: {self.vehicle.display_details()}\\n\"\n",
        "                f\"From: {self.start_date.date()} To: {self.end_date.date()}\")\n",
        "\n",
        "\n",
        "class Customer:\n",
        "    def __init__(self, name, contact_info):\n",
        "        self.name = name\n",
        "        self._contact_info = contact_info  # Encapsulated attribute\n",
        "        self.rented_vehicles = []\n",
        "\n",
        "    def add_rented_vehicle(self, vehicle):\n",
        "        self.rented_vehicles.append(vehicle)\n",
        "\n",
        "    def display_rental_history(self):\n",
        "        return [vehicle.display_details() for vehicle in self.rented_vehicles]\n",
        "\n",
        "\n",
        "# Demonstration of polymorphism\n",
        "def display_vehicle_details(vehicle):\n",
        "    print(vehicle.display_details())\n",
        "\n",
        "def display_reservation_details(reservation):\n",
        "    print(reservation.display_reservation_details())\n",
        "\n",
        "\n",
        "car = Car(\"Toyota\", \"Corolla\", 50)\n",
        "suv = SUV(\"Ford\", \"Explorer\", 75)\n",
        "truck = Truck(\"Chevrolet\", \"Silverado\", 100)\n",
        "\n",
        "customer = Customer(\"Zunaira Amjad\", \"johndoe@example.com\")\n",
        "\n",
        "if car.rent_vehicle():\n",
        "        reservation = RentalReservation(customer, car, datetime.now(), datetime.now() + timedelta(days=3))\n",
        "        customer.add_rented_vehicle(car)\n",
        "\n",
        "        display_vehicle_details(car)\n",
        "        display_reservation_details(reservation)\n",
        "        print(f\"Total Cost: ${car.calculate_total_cost(3)}\")\n",
        "else:\n",
        "        print(\"Car not available for rent.\")"
      ]
    },
    {
      "cell_type": "markdown",
      "metadata": {
        "id": "tuX0A7tzL6Jn"
      },
      "source": [
        "# **Task 6:**"
      ]
    },
    {
      "cell_type": "code",
      "execution_count": null,
      "metadata": {
        "id": "3TTWUhO7L6Jo",
        "outputId": "55e4d528-4431-412b-d5ef-5255f6f88f48"
      },
      "outputs": [
        {
          "name": "stdout",
          "output_type": "stream",
          "text": [
            "Bonus is  30000.0\n",
            "Writing Code\n",
            "Hiring Someone\n"
          ]
        }
      ],
      "source": [
        "from abc import ABC, abstractmethod\n",
        "class Employee(ABC):\n",
        "    def __init__(self,name,sal):\n",
        "        self.name=name\n",
        "        self.sal=sal\n",
        "    @abstractmethod\n",
        "    def calBonus(self):\n",
        "        pass\n",
        "\n",
        "class Manager(Employee):\n",
        "    def __init__(self,name,sal):\n",
        "      super().__init__(name,sal)\n",
        "    def calBonus(self):\n",
        "        return self.sal*20/100\n",
        "    def Hire(self):\n",
        "        print(\"Hiring Someone\")\n",
        "\n",
        "class Developer(Employee):\n",
        "    def __init__(self,name,sal):\n",
        "      super().__init__(name,sal)\n",
        "    def calBonus(self):\n",
        "        return self.sal*10/100\n",
        "    def WriteCode(self):\n",
        "        print(\"Writing Code\")\n",
        "\n",
        "\n",
        "class SeniorManager(Manager,Developer):\n",
        "    def __init__(self, name, sal):\n",
        "        super().__init__(name, sal)\n",
        "    def calBonus(self):\n",
        "        return 30/100*self.sal\n",
        "\n",
        "\n",
        "sm=SeniorManager(\"aisha\",100000)\n",
        "print(\"Bonus is \",sm.calBonus())\n",
        "sm.WriteCode()\n",
        "sm.Hire()"
      ]
    },
    {
      "cell_type": "markdown",
      "source": [
        "# **Task 7:**"
      ],
      "metadata": {
        "id": "a_GCFpW1MKVc"
      }
    },
    {
      "cell_type": "code",
      "source": [
        "text = \"Dear team, \\n\\nI hope this email finds you well. I wanted to update everyone on the project timeline. Please reach out to John (john.doe@company.com) for any concerns related to the development phase. For design inquiries, you can contact Jane (jane.smith@designhub.org). Additionally, for any issues regarding deployment, feel free to email deployment.team@techsolutions.io.\\n\\nOn a related note, I’ve cc'd our customer support lead, David (david.support@ourservice.com), and the marketing team (marketing@brand.co.uk) to keep them in the loop.\\n\\nBest regards,\\nEmily \\nHead of Operations \\nemily.operations@managementgroup.biz\"\n",
        "\n",
        "import re\n",
        "\n",
        "pattern = r'[a-zA-Z0-9_.+-]+@[a-zA-Z0-9-]+\\.[a-zA-Z0-9-.]+'\n",
        "\n",
        "matches = re.finditer(pattern, text)\n",
        "\n",
        "for match in matches:\n",
        "  print(match.group())"
      ],
      "metadata": {
        "id": "l2Y9hsivMP3m",
        "outputId": "16ccc483-46b7-4cda-e9c4-c6aea038d43b",
        "colab": {
          "base_uri": "https://localhost:8080/"
        }
      },
      "execution_count": 10,
      "outputs": [
        {
          "output_type": "stream",
          "name": "stdout",
          "text": [
            "john.doe@company.com\n",
            "jane.smith@designhub.org\n",
            "deployment.team@techsolutions.io.\n",
            "david.support@ourservice.com\n",
            "marketing@brand.co.uk\n",
            "emily.operations@managementgroup.biz\n"
          ]
        }
      ]
    },
    {
      "cell_type": "markdown",
      "source": [
        "# **Task 8:**"
      ],
      "metadata": {
        "id": "4g4Zi3nlO0SU"
      }
    },
    {
      "cell_type": "code",
      "source": [
        "pattern1 = r\"\\b(0[1-9]|1[0-2])\\/(0[1-9]|[12][0-9]|3[01])\\/[0-9]{4}\\b\"\n",
        "pattern2 = r\"\\b[0-9]{4}-(0[1-9]|1[0-2])-(0[1-9]|[12][0-9]|3[01])\\b\"\n",
        "pattern3 = r\"\\b(Jan|Feb|Mar|Apr|May|Jun|Jul|Aug|Sep|Oct|Nov|Dec) [0-9]{1,2}, [0-9]{4}\\b\"\n",
        "\n",
        "text = \"\"\"John's birthday is on 12/09/2023, while Sarah's wedding is planned for 2023-09-15.\n",
        "Don't forget that we have a meeting scheduled for Sep 20, 2023. The deadline for\n",
        "project submissions is 11/30/2023, and the final presentation will be held on 2023-12-01.\n",
        "I also have a doctor's appointment on Dec 5, 2023.\n",
        "\"\"\"\n",
        "\n",
        "matches1 = re.finditer(pattern1, text)\n",
        "matches2 = re.finditer(pattern2, text)\n",
        "matches3 = re.finditer(pattern3, text)\n",
        "\n",
        "for date in matches1:\n",
        "  temp = date.group()\n",
        "  print(temp)\n",
        "for date in matches2:\n",
        "  temp = date.group()\n",
        "  print(temp)\n",
        "for date in matches3:\n",
        "  temp = date.group()\n",
        "  print(temp)"
      ],
      "metadata": {
        "id": "5Pdq10StO38B",
        "outputId": "72780416-1455-42c8-bc6e-79291b4ba18e",
        "colab": {
          "base_uri": "https://localhost:8080/"
        }
      },
      "execution_count": 15,
      "outputs": [
        {
          "output_type": "stream",
          "name": "stdout",
          "text": [
            "12/09/2023\n",
            "11/30/2023\n",
            "2023-09-15\n",
            "2023-12-01\n",
            "Sep 20, 2023\n",
            "Dec 5, 2023\n"
          ]
        }
      ]
    }
  ],
  "metadata": {
    "kernelspec": {
      "display_name": "Python 3",
      "language": "python",
      "name": "python3"
    },
    "language_info": {
      "codemirror_mode": {
        "name": "ipython",
        "version": 3
      },
      "file_extension": ".py",
      "mimetype": "text/x-python",
      "name": "python",
      "nbconvert_exporter": "python",
      "pygments_lexer": "ipython3",
      "version": "3.12.6"
    },
    "colab": {
      "provenance": []
    }
  },
  "nbformat": 4,
  "nbformat_minor": 0
}